{
  "cells": [
    {
      "cell_type": "markdown",
      "metadata": {
        "id": "nKuuYOqgURhN"
      },
      "source": [
        "## Nome: <a href=\"https://github.com/emersonsoaresdasilva\">Emerson Soares da Silva</a> 👨🏻‍💻 | RA: 1903123"
      ]
    },
    {
      "cell_type": "markdown",
      "metadata": {
        "id": "OIqhhneHhdHl"
      },
      "source": [
        "## Buscando dados na nuvem ☁"
      ]
    },
    {
      "cell_type": "code",
      "execution_count": null,
      "metadata": {
        "id": "YufCBvch7IEP"
      },
      "outputs": [],
      "source": [
        "# from google.colab import drive\n",
        "# drive.mount('/content/drive')"
      ]
    },
    {
      "cell_type": "markdown",
      "metadata": {
        "id": "ONo2IFPFZHYq"
      },
      "source": [
        "## Instalando e importando bibliotecas 📚"
      ]
    },
    {
      "cell_type": "code",
      "execution_count": null,
      "metadata": {
        "id": "jfTHTcfngS5E"
      },
      "outputs": [],
      "source": [
        "# %pip install --upgrade pip\n",
        "# %pip install --upgrade pandas\n",
        "# %pip install --upgrade matplotlib\n",
        "# %pip install --upgrade plotly\n",
        "# %pip install --upgrade seaborn\n",
        "# %pip install --upgrade missingno\n",
        "# %pip install --upgrade nbformat"
      ]
    },
    {
      "cell_type": "code",
      "execution_count": null,
      "metadata": {
        "id": "cYB9chUcfOMB"
      },
      "outputs": [],
      "source": [
        "import pandas as pd\n",
        "import numpy as np\n",
        "import math\n",
        "import statistics\n",
        "import missingno as msno\n",
        "import matplotlib.pyplot as plt\n",
        "import plotly.express as px\n",
        "import seaborn as sns\n",
        "import warnings\n",
        "import nbformat\n",
        "warnings.filterwarnings('ignore')"
      ]
    },
    {
      "cell_type": "markdown",
      "metadata": {
        "id": "JLCR_0ToepO_"
      },
      "source": [
        "## Importando minha base 🐱‍👤"
      ]
    },
    {
      "cell_type": "code",
      "execution_count": null,
      "metadata": {
        "id": "Mnj1ksjkfc0C"
      },
      "outputs": [],
      "source": [
        "carros = pd.read_csv('Emerson_Soares_da_Silva.csv', delimiter=';', encoding='utf-8')"
      ]
    },
    {
      "cell_type": "markdown",
      "metadata": {
        "id": "B4ohnLSXURhX"
      },
      "source": [
        "# Exercício 1 - Dados perdidos\n",
        "\n",
        "    1) Quantos missings totais possui sua base de dados?\n",
        "    2) Quantas variáveis apresentaram valores perdidos?\n",
        "    3) Mostre em algum das visões que aprendemos com o missingno\n",
        "    4) Qual será o tratamento dado para os dados perdidos e por quê?"
      ]
    },
    {
      "cell_type": "markdown",
      "metadata": {
        "id": "9Jr1Yf7M7IEU"
      },
      "source": [
        "#### Quantos missings totais possui sua base de dados?\n",
        "- Total 114 dados."
      ]
    },
    {
      "cell_type": "code",
      "execution_count": null,
      "metadata": {
        "colab": {
          "base_uri": "https://localhost:8080/"
        },
        "id": "sq0Q-mNuifE4",
        "outputId": "5a6a52f8-6da3-4404-a955-28f11ecbab41"
      },
      "outputs": [],
      "source": [
        "carros.isna().sum().sum()"
      ]
    },
    {
      "cell_type": "markdown",
      "metadata": {
        "id": "J2RcOYj67IEV"
      },
      "source": [
        "#### Quantas variáveis apresentaram valores perdidos?\n",
        "- 02 variáveis, sendo elas: Quilometragem (80) e Valor (34)."
      ]
    },
    {
      "cell_type": "code",
      "execution_count": null,
      "metadata": {
        "colab": {
          "base_uri": "https://localhost:8080/"
        },
        "id": "sb1rKJLaie8A",
        "outputId": "371b15f4-b323-45b9-f7b4-c7df5b44d30b"
      },
      "outputs": [],
      "source": [
        "carros.isnull().sum()"
      ]
    },
    {
      "cell_type": "markdown",
      "metadata": {
        "id": "Ppo3FCn27IEW"
      },
      "source": [
        "#### Mostre em algum das visões que aprendemos com o missingno"
      ]
    },
    {
      "cell_type": "code",
      "execution_count": null,
      "metadata": {
        "colab": {
          "base_uri": "https://localhost:8080/",
          "height": 641
        },
        "id": "jrjiMnQsURha",
        "outputId": "1e69a1fa-c1a2-4dcd-e93d-9caa8d1e189e"
      },
      "outputs": [],
      "source": [
        "msno.matrix(carros)"
      ]
    },
    {
      "cell_type": "code",
      "execution_count": null,
      "metadata": {
        "colab": {
          "base_uri": "https://localhost:8080/",
          "height": 660
        },
        "id": "_shUg9NY3Fpy",
        "outputId": "2dde193c-0863-480f-a06e-f254ad5af410"
      },
      "outputs": [],
      "source": [
        "msno.bar(carros)"
      ]
    },
    {
      "cell_type": "markdown",
      "metadata": {
        "id": "ESLKC4fL7IEX"
      },
      "source": [
        "#### Qual será o tratamento dado para os dados perdidos e por quê?\n",
        "\n",
        "1. O ideal é fazer o que a gente chama de \"inputação\", que é uma técnica de preenchimento de dados faltantes;\n",
        "2. A inputação é feita com base em outras variáveis, como por exemplo, a média, a mediana, a moda etc."
      ]
    },
    {
      "cell_type": "code",
      "execution_count": null,
      "metadata": {
        "colab": {
          "base_uri": "https://localhost:8080/",
          "height": 300
        },
        "id": "E8x_vH__c01o",
        "outputId": "33e86de5-4384-4e5e-b662-3ccbb78e72b3"
      },
      "outputs": [],
      "source": [
        "carros.describe()"
      ]
    },
    {
      "cell_type": "markdown",
      "metadata": {
        "id": "yxeGPyUBc2Tw"
      },
      "source": [
        "- No caso da variável \"Quilometragem\", a média é uma boa opção, pois a variável é numérica e não possui outliers.\n",
        "- Agora vamos ver como ficaria a distribuição da variável \"Quilometragem\" se a gente fizesse a inputação dos dados faltantes."
      ]
    },
    {
      "cell_type": "code",
      "execution_count": null,
      "metadata": {
        "colab": {
          "base_uri": "https://localhost:8080/",
          "height": 300
        },
        "id": "2rhgbzzfURhb",
        "outputId": "a12a3487-2954-4fb1-bb5c-4cb15c4039c7"
      },
      "outputs": [],
      "source": [
        "carros.quilometragem.fillna(carros.quilometragem.mean(), inplace=True)\n",
        "carros.describe()"
      ]
    },
    {
      "cell_type": "markdown",
      "metadata": {
        "id": "ymTv2PGz7IEX"
      },
      "source": [
        "- No caso da variável \"Valor\", a mediana é uma boa opção, pois a variável é numérica e possui outliers.\n",
        "- Agora vamos ver como ficaria a distribuição da variável \"Valor\" se a gente fizesse a inputação dos dados faltantes."
      ]
    },
    {
      "cell_type": "code",
      "execution_count": null,
      "metadata": {
        "colab": {
          "base_uri": "https://localhost:8080/",
          "height": 300
        },
        "id": "vdXfp4Jz7IEY",
        "outputId": "007da8d1-b2c6-46ec-c90e-a573ed64401e"
      },
      "outputs": [],
      "source": [
        "carros.valor.fillna(carros.valor.median(), inplace=True)\n",
        "carros.describe()"
      ]
    },
    {
      "cell_type": "markdown",
      "metadata": {
        "id": "B1SZu8inURhc"
      },
      "source": [
        "# Exercício 2 - Outliers\n",
        "\n",
        "    1) Mostre um gráfico de caixa de cada variável numérica\n",
        "    2) Qual tratamento você dará para os outliers e por quê?"
      ]
    },
    {
      "cell_type": "markdown",
      "metadata": {
        "id": "3i2LlYJ87IEY"
      },
      "source": [
        "#### Mostre um gráfico de caixa de cada variável numérica"
      ]
    },
    {
      "cell_type": "code",
      "execution_count": null,
      "metadata": {
        "colab": {
          "base_uri": "https://localhost:8080/",
          "height": 334
        },
        "id": "vK0JCtUL7IEZ",
        "outputId": "d0a5be8d-6c8f-40c9-f7b5-b32029b96514"
      },
      "outputs": [],
      "source": [
        "fig, ax = plt.subplots(1, 3, figsize=(20, 5))\n",
        "sns.boxplot(x=carros.ano, ax=ax[0])\n",
        "sns.boxplot(x=carros.quilometragem, ax=ax[1])\n",
        "sns.boxplot(x=carros.valor, ax=ax[2])\n",
        "plt.show()"
      ]
    },
    {
      "cell_type": "code",
      "execution_count": null,
      "metadata": {
        "colab": {
          "base_uri": "https://localhost:8080/",
          "height": 337
        },
        "id": "nKyMjz41URhd",
        "outputId": "bfba0499-b04a-471c-932d-499abfee3bf1"
      },
      "outputs": [],
      "source": [
        "carros.boxplot(column=['ano', 'quilometragem', 'valor'], figsize=(10, 5))"
      ]
    },
    {
      "cell_type": "code",
      "execution_count": null,
      "metadata": {
        "colab": {
          "base_uri": "https://localhost:8080/",
          "height": 542
        },
        "id": "0r2-6rq1kfWj",
        "outputId": "90e5266c-69fe-444e-d4a4-40257babe746"
      },
      "outputs": [],
      "source": [
        "px.box(carros.ano)"
      ]
    },
    {
      "cell_type": "markdown",
      "metadata": {
        "id": "pb1CnTdu7IEZ"
      },
      "source": [
        "#### Qual tratamento você dará para os outliers e por quê?\n",
        "* Para os outliers, irei utilizar o método de corte, pois, os dados estão muito distantes da média, e isso pode atrapalhar na análise dos dados:\n",
        "  1. Para o ano, irei utilizar o <em>lower fence</em> entre 1990, pois o ano de 1990 é o ano mais antigo, até os dados de 2019 para frente, pois são os mais atuais."
      ]
    },
    {
      "cell_type": "code",
      "execution_count": null,
      "metadata": {
        "id": "gGxKWmIUURhf"
      },
      "outputs": [],
      "source": [
        "carros.loc[carros.ano>=2019, 'ano']=2019\n",
        "carros.loc[carros.ano<=1990, 'ano']=1990"
      ]
    },
    {
      "cell_type": "markdown",
      "metadata": {
        "id": "v9p5nhHYURhh"
      },
      "source": [
        "# Exercício 3 - Medidas resumo\n",
        "\n",
        "    1) Para as variáveis numéricas, mostre: \n",
        "        a) média\n",
        "        b) mediana\n",
        "        c) percentis 25 e 75\n",
        "        d) mínimo e máximo\n",
        "    2) Para as variáveis categoricas, retorne a frequência delas"
      ]
    },
    {
      "cell_type": "markdown",
      "metadata": {
        "id": "YXKODaSF7IEa"
      },
      "source": [
        "#### Média"
      ]
    },
    {
      "cell_type": "code",
      "execution_count": null,
      "metadata": {
        "colab": {
          "base_uri": "https://localhost:8080/"
        },
        "id": "HrzehVxx7IEa",
        "outputId": "b0734b08-be26-4db7-fbb7-675e39859d82"
      },
      "outputs": [],
      "source": [
        "print(f'Média ano: {int(carros.ano.mean())}')\n",
        "print(f'Média quilometragem: {int(carros.quilometragem.mean())} km')\n",
        "print(f'Média valor: R$ {float(carros.valor.mean()):.2f}')"
      ]
    },
    {
      "cell_type": "markdown",
      "metadata": {
        "id": "OvkeCScX7IEa"
      },
      "source": [
        "#### Mediana"
      ]
    },
    {
      "cell_type": "code",
      "execution_count": null,
      "metadata": {
        "colab": {
          "base_uri": "https://localhost:8080/"
        },
        "id": "bHBv84dAih-B",
        "outputId": "5d95780b-8aa1-4875-89be-e635fd04dc78"
      },
      "outputs": [],
      "source": [
        "print(f'Mediana ano: {int(carros.ano.median())}')\n",
        "print(f'Mediana quilometragem: {int(carros.quilometragem.median())} km')\n",
        "print(f'Mediana valor: R$ {float(carros.valor.median()):.2f}')"
      ]
    },
    {
      "cell_type": "markdown",
      "metadata": {
        "id": "r0z8GhEv7IEb"
      },
      "source": [
        "#### Percentis 25 e 75"
      ]
    },
    {
      "cell_type": "code",
      "execution_count": null,
      "metadata": {
        "colab": {
          "base_uri": "https://localhost:8080/"
        },
        "id": "SkwvKQxsURhi",
        "outputId": "480e99b3-cb24-4ad5-80ee-da960b27288f"
      },
      "outputs": [],
      "source": [
        "array_ano = np.array(carros['ano'], dtype='int')\n",
        "print(f'Percentil 25 ano: {np.percentile(array_ano, 25)}')\n",
        "print(f'Percentil 75 ano: {np.percentile(array_ano, 75)}')\n",
        "\n",
        "array_quilometragem = np.array(carros['quilometragem'], dtype='int')\n",
        "print(f'\\nPercentil 25 quilometragem: {np.percentile(array_quilometragem, 25)}')\n",
        "print(f'Percentil 75 quilometragem: {np.percentile(array_quilometragem, 75)}')\n",
        "\n",
        "array_valor = np.array(carros['valor'], dtype='int')\n",
        "print(f'\\nPercentil 25 valor: R$ {float(np.percentile(array_valor, 25)):.2f}')\n",
        "print(f'Percentil 75 valor: R$ {float(np.percentile(array_valor, 75)):.2f}')\n",
        "\n",
        "# print(f'Percentil 25 ano: {int(carros.ano.quantile(0.25))}')\n",
        "# print(f'Percentil 25 quilometragem: {int(carros.quilometragem.quantile(0.25))} km')\n",
        "# print(f'Percentil 25 valor: R$ {float(carros.valor.quantile(0.25)):.2f}')\n",
        "\n",
        "# print(f'\\nPercentil 75 ano: {int(carros.ano.quantile(0.75))}')\n",
        "# print(f'Percentil 75 quilometragem: {int(carros.quilometragem.quantile(0.75))} km')\n",
        "# print(f'Percentil 75 valor: R$ {float(carros.valor.quantile(0.75)):.2f}')"
      ]
    },
    {
      "cell_type": "markdown",
      "metadata": {
        "id": "816u8Sd7px3m"
      },
      "source": [
        "#### Mínimo e máximo"
      ]
    },
    {
      "cell_type": "code",
      "execution_count": null,
      "metadata": {
        "colab": {
          "base_uri": "https://localhost:8080/"
        },
        "id": "NnUr2I01p0W9",
        "outputId": "6aa945a2-803a-4690-ae05-337876c1e995"
      },
      "outputs": [],
      "source": [
        "print(f'Mínimo de ano: {int(carros.ano.min())}')\n",
        "print(f'Máximo de ano: {int(carros.ano.max())}')\n",
        "\n",
        "print(f'\\nMíninimo de quilometragem: {float(carros.quilometragem.min()):.2f}')\n",
        "print(f'Máximo de quilometragem: {float(carros.quilometragem.max()):.2f}')\n",
        "\n",
        "print(f'\\nMíninimo de valor: {float(carros.valor.min()):.2f}')\n",
        "print(f'Máximo de valor: {float(carros.valor.max()):.2f}')"
      ]
    },
    {
      "cell_type": "markdown",
      "metadata": {
        "id": "ycOst5nWsh9_"
      },
      "source": [
        "#### Variáveis categoricas"
      ]
    },
    {
      "cell_type": "code",
      "execution_count": null,
      "metadata": {
        "colab": {
          "base_uri": "https://localhost:8080/"
        },
        "id": "iwPfYvL2zmVz",
        "outputId": "a8ab17ee-8f76-4e3e-fd6f-891e8b7225d9"
      },
      "outputs": [],
      "source": [
        "carros.nome.value_counts().sort_values(ascending=False)"
      ]
    },
    {
      "cell_type": "code",
      "execution_count": null,
      "metadata": {
        "colab": {
          "base_uri": "https://localhost:8080/"
        },
        "id": "-WwkGVNVuRNr",
        "outputId": "2373077a-3f6e-4f6e-fa99-8b620cc6a0e0"
      },
      "outputs": [],
      "source": [
        "carros.motor.value_counts().sort_values(ascending=False)"
      ]
    },
    {
      "cell_type": "code",
      "execution_count": null,
      "metadata": {
        "colab": {
          "base_uri": "https://localhost:8080/"
        },
        "id": "zifcmcL1uT1b",
        "outputId": "5607731d-3085-40fb-a3d1-7c0cd6976bd0"
      },
      "outputs": [],
      "source": [
        "carros.zero_km.value_counts().sort_values(ascending=False)"
      ]
    },
    {
      "cell_type": "code",
      "execution_count": null,
      "metadata": {
        "colab": {
          "base_uri": "https://localhost:8080/"
        },
        "id": "lAMBK-ysuWCS",
        "outputId": "0bb446f3-c5a3-4c32-b190-2888165fa19d"
      },
      "outputs": [],
      "source": [
        "carros.acessórios.value_counts().sort_values(ascending=False)"
      ]
    },
    {
      "cell_type": "markdown",
      "metadata": {
        "id": "AQZghPuDURhj"
      },
      "source": [
        "# Exercício 4 - Visualizações gráficas\n",
        "\n",
        "    Com variáveis de sua escolha:\n",
        "\n",
        "    1) Faça um histograma\n",
        "    2) Faça um gráfico de dispersão\n",
        "    3) Faça um gráfico de barras\n",
        "    4) Faça um gráfico de linha\n",
        "\n",
        "    Porém, faça para diferentes variáveis."
      ]
    },
    {
      "cell_type": "markdown",
      "metadata": {
        "id": "kmJr91vy7IEb"
      },
      "source": [
        "#### Faça um histograma"
      ]
    },
    {
      "cell_type": "code",
      "execution_count": null,
      "metadata": {
        "colab": {
          "base_uri": "https://localhost:8080/",
          "height": 542
        },
        "id": "bRZNuBnGURhl",
        "outputId": "83318466-320b-4ca3-9fff-c97d2d0ad054"
      },
      "outputs": [],
      "source": [
        "px.histogram(carros, x='ano')"
      ]
    },
    {
      "cell_type": "markdown",
      "metadata": {
        "id": "d5Y5_Mar7IEb"
      },
      "source": [
        "#### Faça um gráfico de dispersão"
      ]
    },
    {
      "cell_type": "code",
      "execution_count": null,
      "metadata": {
        "colab": {
          "base_uri": "https://localhost:8080/",
          "height": 542
        },
        "id": "FMX3z0UJURhm",
        "outputId": "1673b763-27a6-41f0-9ae6-32d20493c3b2"
      },
      "outputs": [],
      "source": [
        "px.scatter(carros.valor)"
      ]
    },
    {
      "cell_type": "markdown",
      "metadata": {
        "id": "cDeYYYFQ7IEc"
      },
      "source": [
        "#### Faça um gráfico de barras"
      ]
    },
    {
      "cell_type": "code",
      "execution_count": null,
      "metadata": {
        "colab": {
          "base_uri": "https://localhost:8080/",
          "height": 542
        },
        "id": "pwquc1YJ7IEc",
        "outputId": "00c6d988-9d0b-4eaf-fc91-caa9f72d1cff"
      },
      "outputs": [],
      "source": [
        "px.bar(carros.nome, carros.motor)"
      ]
    },
    {
      "cell_type": "markdown",
      "metadata": {
        "id": "mvw0upG-7IEc"
      },
      "source": [
        "#### Faça um gráfico de linha"
      ]
    },
    {
      "cell_type": "code",
      "execution_count": null,
      "metadata": {
        "colab": {
          "base_uri": "https://localhost:8080/",
          "height": 297
        },
        "id": "rTuOL07Hikvo",
        "outputId": "07dbe4a8-e9b0-45d7-d708-0a66c4c23e25"
      },
      "outputs": [],
      "source": [
        "sns.lineplot(x=carros.ano, y=carros.motor)"
      ]
    }
  ],
  "metadata": {
    "accelerator": "GPU",
    "colab": {
      "collapsed_sections": [],
      "provenance": []
    },
    "kernelspec": {
      "display_name": "Python 3.10.2 64-bit",
      "language": "python",
      "name": "python3"
    },
    "language_info": {
      "codemirror_mode": {
        "name": "ipython",
        "version": 3
      },
      "file_extension": ".py",
      "mimetype": "text/x-python",
      "name": "python",
      "nbconvert_exporter": "python",
      "pygments_lexer": "ipython3",
      "version": "3.10.2"
    },
    "orig_nbformat": 4,
    "vscode": {
      "interpreter": {
        "hash": "fb4569285eef3a3450cb62085a5b1e0da4bce0af555edc33dcf29baf3acc1368"
      }
    }
  },
  "nbformat": 4,
  "nbformat_minor": 0
}
